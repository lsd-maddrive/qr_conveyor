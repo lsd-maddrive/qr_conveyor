{
 "cells": [
  {
   "cell_type": "markdown",
   "metadata": {
    "colab_type": "text",
    "id": "aYAoC184l9X8"
   },
   "source": [
    "# Matplotlib"
   ]
  },
  {
   "cell_type": "markdown",
   "metadata": {},
   "source": [
    "> 🚀 В этой практике нам понадобятся: `numpy==1.21.2, matplotlib==3.4.3` \n",
    "\n",
    "> 🚀 Установить вы их можете с помощью команды: `%pip install numpy==1.21.2 matplotlib==3.4.3` \n"
   ]
  },
  {
   "cell_type": "markdown",
   "metadata": {},
   "source": [
    "## Содержание\n",
    "\n",
    "* [Настройка графиков](#Настройка-графиков)\n",
    "* [Hello World в визуализации](#Hello-World-в-визуализации)\n",
    "  * [Задание - пора рисовать!](#Задание---пора-рисовать)\n",
    "  * [Задание - новые графики](#Задание---новые-графики)\n",
    "* [Отображение по имени](#Отображение-по-имени)\n",
    "* [Отображение категорий](#Отображение-категорий)\n",
    "* [Разделение зон отображения](#Разделение-зон-отображения)\n",
    "  * [Задание - много линий](#Задание---много-линий)\n",
    "* [Управление размером графика](#Управление-размером-графика)\n",
    "  * [Задание - больше управления графиками](#Задание---больше-управления-графиками)\n",
    "* [Другой способ управления зонами отображения](#Другой-способ-управления-зонами-отображения)\n",
    "* [Отображение текста](#Отображение-текста)\n",
    "  * [Задание - вспомним параболу](#Задание---вспомним-параболу)\n",
    "* [Отображение в логарифмическом масштабе](#Отображение-в-логарифмическом-масштабе)\n",
    "* [Задачки](#Задачки)\n"
   ]
  },
  {
   "cell_type": "markdown",
   "metadata": {},
   "source": [
    "В этом ноутбуке:\n",
    "- Добро пожаловать в Matlab или посторонним вход воспрещен!"
   ]
  },
  {
   "cell_type": "markdown",
   "metadata": {
    "colab_type": "text",
    "id": "4VW1O9VeooHw"
   },
   "source": [
    "Matplotlib - это библиотека визуализации данных. Функционал библиотеки во многом схож с функциями визуализации языка MATLAB. [Официальный сайт](https://matplotlib.org) обладает огромным количеством примеров, поэтому рекомендуется в одну из первых очередей поиска решений обращаться к нему.\n",
    "\n",
    "<img src=\"https://raw.githubusercontent.com/AleksDevEdu/ml_edu/master/assets/logo/mpl-logo.svg\" height=\"150px\"></img>"
   ]
  },
  {
   "cell_type": "markdown",
   "metadata": {
    "colab_type": "text",
    "id": "R1sA9BEh5oE2"
   },
   "source": [
    "\n",
    "Как всегда, начало работы производим с импорта необходимых модулей в начале ноутбука:"
   ]
  },
  {
   "cell_type": "code",
   "execution_count": null,
   "metadata": {
    "_cell_id": "9NAhvCK6PBD4zrJ2"
   },
   "outputs": [],
   "source": [
    "import matplotlib as mpl\n",
    "import numpy as np"
   ]
  },
  {
   "cell_type": "markdown",
   "metadata": {},
   "source": [
    "## Настройка графиков"
   ]
  },
  {
   "cell_type": "markdown",
   "metadata": {
    "colab_type": "text",
    "id": "AVcsNktM2tWA"
   },
   "source": [
    "Начнем с возможностей настройки графиков. Модуль `matplotlib` имеет словарь `rcParams`, в котором можно настроить различные параметры отображения. Эти значения являются параметрами по-умолчанию, если не заданы при отображении. Работают на все создаваемые графики после выполнения, так что не боимся использовать. https://matplotlib.org/stable/api/matplotlib_configuration_api.html#default-values-and-styling"
   ]
  },
  {
   "cell_type": "code",
   "execution_count": null,
   "metadata": {
    "_cell_id": "sXPHVdtWRZQWO72N"
   },
   "outputs": [],
   "source": [
    "# Если используется темная тема - лучше текст сделать белым\n",
    "TEXT_COLOR = 'black'\n",
    "\n",
    "# Размер отображаемой фигуры в дюймах\n",
    "mpl.rcParams['figure.figsize'] = (10, 6)\n",
    "# Цвет всего текста\n",
    "mpl.rcParams['text.color'] = 'black'\n",
    "# Размер шрифта\n",
    "mpl.rcParams['font.size'] = 14\n",
    "# Цвет текста подписи осей\n",
    "mpl.rcParams['axes.labelcolor'] = TEXT_COLOR\n",
    "# Цвет текста меток по оси X\n",
    "mpl.rcParams['xtick.color'] = TEXT_COLOR\n",
    "# Цвет текста меток по оси Y\n",
    "mpl.rcParams['ytick.color'] = TEXT_COLOR"
   ]
  },
  {
   "cell_type": "markdown",
   "metadata": {
    "colab_type": "text",
    "id": "Mjnt058Eo8QN"
   },
   "source": [
    "Вся библиотека имеет очень широкий функционал, при этом интересующие нас функции находятся в сабмодуле `matplotlib.pyplot`:"
   ]
  },
  {
   "cell_type": "code",
   "execution_count": null,
   "metadata": {
    "_cell_id": "3WzUOT7ugaOkd1af"
   },
   "outputs": [],
   "source": [
    "from matplotlib import pyplot as plt\n",
    "# Или равнозначный импорт\n",
    "#   import matplotlib.pyplot as plt"
   ]
  },
  {
   "cell_type": "markdown",
   "metadata": {
    "colab_type": "text",
    "id": "YG5IvLnCpmt5"
   },
   "source": [
    "## Hello World в визуализации"
   ]
  },
  {
   "cell_type": "markdown",
   "metadata": {
    "colab_type": "text",
    "id": "gHSzgBENpsjr"
   },
   "source": [
    "Начнем с простого кода отображения графика с дополнительными функциями \"украшения\" графика.\n",
    "\n",
    "> Один из главных плюсов Jupyter является его возможность визуализации графиков без дополнительных настроек."
   ]
  },
  {
   "cell_type": "code",
   "execution_count": null,
   "metadata": {
    "_cell_id": "FdkzXckU7spcZx3z",
    "colab": {
     "base_uri": "https://localhost:8080/",
     "height": 415
    },
    "colab_type": "code",
    "executionInfo": {
     "elapsed": 3455,
     "status": "ok",
     "timestamp": 1598907662616,
     "user": {
      "displayName": "Alexey Devyatkin",
      "photoUrl": "https://lh3.googleusercontent.com/a-/AOh14GjZicdeEga0uI_adjvPG_ydk4aC9pHcJhRxHdlu=s64",
      "userId": "01450359895113891365"
     },
     "user_tz": -180
    },
    "id": "KeD-OhnAqnNV",
    "outputId": "efcb35f9-4ad5-4be5-8662-2505c943e856"
   },
   "outputs": [],
   "source": [
    "# Создадим данные для отображения (50 точек)\n",
    "x = np.linspace(10, 20, 50)\n",
    "y = x*2\n",
    "\n",
    "# Отображение точек в виде линии\n",
    "plt.plot(x, y, 'k--')\n",
    "# Добавим подписи для осей\n",
    "plt.xlabel('X значения')\n",
    "plt.ylabel('Y значения')\n",
    "# Подпись графика\n",
    "plt.title('Мой первый график!', color=TEXT_COLOR)\n",
    "# Включение сетки\n",
    "plt.grid(True)\n",
    "# Отобразить график\n",
    "plt.show()"
   ]
  },
  {
   "cell_type": "markdown",
   "metadata": {
    "colab_type": "text",
    "id": "1qsPMis8rM3P"
   },
   "source": [
    "Таким нехитрым способом можно отобразить график по точкам координат $x$ и $y$. Обратите внимание, что после передачи массивов координат задается описание вида `k--`. Таким образом задаются две вещи:\n",
    "- `k` - цвет линии;\n",
    "- `--` - формат линии.\n",
    "\n",
    "> Для знакомства с тем, как еще можно управлять параметрами линии, обратитесь к [руководству на официальном сайте](https://matplotlib.org/tutorials/introductory/pyplot.html#controlling-line-properties).\n",
    "\n",
    "Для отображения нескольких графиков можно воспользоваться несколькими вызовами `plt.plot()`:"
   ]
  },
  {
   "cell_type": "code",
   "execution_count": null,
   "metadata": {
    "_cell_id": "Ef981BMIiLn8ys2u",
    "colab": {
     "base_uri": "https://localhost:8080/",
     "height": 395
    },
    "colab_type": "code",
    "executionInfo": {
     "elapsed": 3925,
     "status": "ok",
     "timestamp": 1598907663152,
     "user": {
      "displayName": "Alexey Devyatkin",
      "photoUrl": "https://lh3.googleusercontent.com/a-/AOh14GjZicdeEga0uI_adjvPG_ydk4aC9pHcJhRxHdlu=s64",
      "userId": "01450359895113891365"
     },
     "user_tz": -180
    },
    "id": "St3_Zlb68g44",
    "outputId": "b3e0bac1-1042-4b3d-e8af-aab3da8f6b02"
   },
   "outputs": [],
   "source": [
    "x = np.linspace(10, 20, 50)\n",
    "\n",
    "plt.plot(x, x*2, 'k--', label='y=x*2')\n",
    "plt.plot(x, x*5, 'b*', label='y=x*5')\n",
    "plt.plot(x, x*10, 'r-.', label='y=x*10')\n",
    "plt.xlabel('X значения')\n",
    "plt.ylabel('Y значения')\n",
    "plt.grid(True)\n",
    "# Отображение легенды\n",
    "plt.legend()\n",
    "plt.show()"
   ]
  },
  {
   "cell_type": "markdown",
   "metadata": {
    "colab_type": "text",
    "id": "Z7jT5GOG9FsY"
   },
   "source": [
    "При отображении нескольких графиков важно различать, какой за что отвечает, так что полезно отобразить легенду с помощью `plt.legend()`. Для присвоения каждому графику своей надписи при отображении используется аргумент `label`."
   ]
  },
  {
   "cell_type": "markdown",
   "metadata": {
    "colab_type": "text",
    "id": "S_8C5daMzslq"
   },
   "source": [
    "> Для знакомства с составными частями графика загляните в https://matplotlib.org/tutorials/introductory/usage.html#parts-of-a-figure"
   ]
  },
  {
   "cell_type": "markdown",
   "metadata": {
    "colab_type": "text",
    "id": "8FQIcW_B91tF"
   },
   "source": [
    "### Задание - пора рисовать!\n",
    "\n",
    "Отобразите зависимости косинуса и синуса на одном графике. Воспользуйтесь шаблонами формата линии:\n",
    "- треугольники `^`;\n",
    "- квадраты `s`."
   ]
  },
  {
   "cell_type": "code",
   "execution_count": null,
   "metadata": {
    "_cell_id": "BShfJ42G5HZDEdu1",
    "colab": {},
    "colab_type": "code",
    "id": "1RWNC1kcBSyt"
   },
   "outputs": [],
   "source": [
    "from matplotlib import pyplot as plt\n",
    "import numpy as np\n",
    "\n",
    "x = np.linspace(0, 2 * np.pi, 100)  # Создаем массив значений от 0 до 2*pi\n",
    "y_cos = np.cos(x)  \n",
    "y_sin = np.sin(x) \n",
    "\n",
    "plt.plot(x, y_cos, marker='^', linestyle='', label='cos(x)')  # График косинуса с треугольниками\n",
    "plt.plot(x, y_sin, marker='s', linestyle='', label='sin(x)')  # График синуса с квадратами\n",
    "\n",
    "plt.xlabel('x') \n",
    "plt.ylabel('y')  \n",
    "plt.title('Графики косинуса и синуса') \n",
    "plt.legend()  # Вывод легенды\n",
    "\n",
    "plt.show()  "
   ]
  },
  {
   "cell_type": "markdown",
   "metadata": {
    "colab_type": "text",
    "id": "9Ktefh1sAxqY"
   },
   "source": [
    "### Задание - новые графики\n",
    "\n",
    "Отобразите сгенерированные данные в виде точек с помощью функции `plt.scatter()`:"
   ]
  },
  {
   "cell_type": "code",
   "execution_count": null,
   "metadata": {
    "_cell_id": "6jSZ7gOLi8gWFPTT"
   },
   "outputs": [],
   "source": [
    "import numpy as np\n",
    "from matplotlib import pyplot as plt\n",
    "\n",
    "x = np.array([1, 2, 5, 8, 6, 10])\n",
    "y = np.array([2, 3, 4, 1, 6, 3])\n",
    "\n",
    "plt.xlabel('X значения')\n",
    "plt.ylabel('Y значения')\n",
    "plt.grid(True)\n",
    "plt.scatter(x, y)\n",
    "plt.show()\n",
    "\n",
    "# TODO"
   ]
  },
  {
   "cell_type": "markdown",
   "metadata": {
    "colab_type": "text",
    "id": "UFdhZp1ZBTqn"
   },
   "source": [
    "## Отображение по имени"
   ]
  },
  {
   "cell_type": "markdown",
   "metadata": {
    "colab_type": "text",
    "id": "x5G-C6bgBXSd"
   },
   "source": [
    "Отображение данных может быть не только путём передачи самих массивов, но и набора данных, представленных в виде словаря, где каждая запись под ключём - конкретные данные. Так, можно создавать хранилища данных и затем отображать конкретные графики путём передачи имён:"
   ]
  },
  {
   "cell_type": "code",
   "execution_count": null,
   "metadata": {
    "_cell_id": "K0oUY5eV3cyEw61y",
    "colab": {
     "base_uri": "https://localhost:8080/",
     "height": 378
    },
    "colab_type": "code",
    "executionInfo": {
     "elapsed": 4151,
     "status": "ok",
     "timestamp": 1598907663533,
     "user": {
      "displayName": "Alexey Devyatkin",
      "photoUrl": "https://lh3.googleusercontent.com/a-/AOh14GjZicdeEga0uI_adjvPG_ydk4aC9pHcJhRxHdlu=s64",
      "userId": "01450359895113891365"
     },
     "user_tz": -180
    },
    "id": "feNNpfsFD4wa",
    "outputId": "f657e94a-8f0e-43ad-ca27-e59b751d94aa"
   },
   "outputs": [],
   "source": [
    "data = {'x': np.linspace(0, 5, 50)}\n",
    "data['x^2'] = data['x']**2\n",
    "data['x^3'] = data['x']**3\n",
    "\n",
    "plt.plot('x', 'x^2', 'b-', data=data, label='x^2')\n",
    "plt.plot('x', 'x^3', 'r--', data=data, label='x^3')\n",
    "plt.grid(True)\n",
    "plt.legend()\n",
    "plt.show()"
   ]
  },
  {
   "cell_type": "markdown",
   "metadata": {
    "colab_type": "text",
    "id": "tmXtSUzhC-qc"
   },
   "source": [
    "> Может сейчас польза не явно видна, но это будет точно полезно при работе с табличными данными."
   ]
  },
  {
   "cell_type": "markdown",
   "metadata": {
    "colab_type": "text",
    "id": "7G9LAbi5FTpI"
   },
   "source": [
    "## Отображение категорий"
   ]
  },
  {
   "cell_type": "markdown",
   "metadata": {
    "colab_type": "text",
    "id": "lObGDGQvGBHB"
   },
   "source": [
    "В работе с данными часто бывает необходимость отображения статистики по отношению к каким-то классам или группам, которые представлены строчными значениями. Данные также передаются и `pyplot` сам настраивает ось абсцисс. "
   ]
  },
  {
   "cell_type": "code",
   "execution_count": null,
   "metadata": {
    "_cell_id": "ReJHrfYYA1Q79vFS",
    "colab": {
     "base_uri": "https://localhost:8080/",
     "height": 395
    },
    "colab_type": "code",
    "executionInfo": {
     "elapsed": 4101,
     "status": "ok",
     "timestamp": 1598907663536,
     "user": {
      "displayName": "Alexey Devyatkin",
      "photoUrl": "https://lh3.googleusercontent.com/a-/AOh14GjZicdeEga0uI_adjvPG_ydk4aC9pHcJhRxHdlu=s64",
      "userId": "01450359895113891365"
     },
     "user_tz": -180
    },
    "id": "PS_l4H8BGNk9",
    "outputId": "a893440c-bf5a-421b-854b-5ad4c07f3b47"
   },
   "outputs": [],
   "source": [
    "import numpy as np\n",
    "from matplotlib import pyplot as plt\n",
    "\n",
    "names = ['Петя', 'Вася', 'Коля']\n",
    "rates = [4.6, 3.5, 2.9]\n",
    "\n",
    "plt.bar(names, rates)\n",
    "plt.xlabel('Студенты')\n",
    "plt.ylabel('Оценки')\n",
    "plt.grid()\n",
    "plt.show()"
   ]
  },
  {
   "cell_type": "markdown",
   "metadata": {
    "colab_type": "text",
    "id": "AGl5y71-IJwU"
   },
   "source": [
    "## Разделение зон отображения"
   ]
  },
  {
   "cell_type": "markdown",
   "metadata": {
    "colab_type": "text",
    "id": "WoY0aaJfIQs2"
   },
   "source": [
    "Отображение нескольких графиков не всегда удобно, особенно, если графиков слишком много. Matplotlib содержит функционал для создания нескольких зон для отображения."
   ]
  },
  {
   "cell_type": "code",
   "execution_count": null,
   "metadata": {
    "_cell_id": "ECc5D8QK0fke3fCg",
    "colab": {
     "base_uri": "https://localhost:8080/",
     "height": 432
    },
    "colab_type": "code",
    "executionInfo": {
     "elapsed": 4421,
     "status": "ok",
     "timestamp": 1598907663913,
     "user": {
      "displayName": "Alexey Devyatkin",
      "photoUrl": "https://lh3.googleusercontent.com/a-/AOh14GjZicdeEga0uI_adjvPG_ydk4aC9pHcJhRxHdlu=s64",
      "userId": "01450359895113891365"
     },
     "user_tz": -180
    },
    "id": "AWgJGR81IPpX",
    "outputId": "d9631c59-aafd-4dcb-fd2a-5c47bb581b08"
   },
   "outputs": [],
   "source": [
    "x = np.linspace(.1, 5, 50)\n",
    "\n",
    "# Создание и переход на зону отображения 1\n",
    "plt.subplot(121)\n",
    "plt.plot(x, np.exp(x))\n",
    "plt.ylabel('y = e^x')\n",
    "plt.grid(True)\n",
    "\n",
    "# Создание и переход на зону отображения 2\n",
    "plt.subplot(122)\n",
    "plt.plot(x, np.log(x))\n",
    "plt.ylabel('y = log(x)')\n",
    "plt.grid(True)\n",
    "\n",
    "# Коррекция размещения графиков\n",
    "plt.tight_layout()"
   ]
  },
  {
   "cell_type": "markdown",
   "metadata": {
    "colab_type": "text",
    "id": "0wFlbV3ElzMq"
   },
   "source": [
    "В данном примере проявляется две новые особенности работы с данным зонами:\n",
    "- Для создания и переходов между зонами используется функция `plt.subplot()` с цифровой кодировкой;\n",
    "- После добавления всех зон рекомендуется использовать функцию `plt.tight_layout()`, чтобы скорректировать размещение (проверьте, как отображается текст без использования данной функции).\n",
    "\n",
    "Цифровая кодировка для зон отображения задаётся следующий образом:\n",
    "- Первая цифра - количество рядов зон отображения (по ветрикали);\n",
    "- Вторая цифра - количество колонок зон отображения (по горизонтали);\n",
    "- Третья цифра - номер (начиная с 1) зоны, на которую происходит переход.\n",
    "\n",
    "> Другим способом задания размеров и номера является использование аргументов: `plt.subplot(nrows=1, ncols=2, index=1)`\n",
    "\n",
    "Номер зоны соответствует проходу сначала по колонкам первого ряда, затем переход на следующий ряд и проход по колонкам этого ряда.\n",
    "\n",
    "> Важно обратить внимание, что при переходе на зону отображения всё рисование происходит на ней (через объект `plt`). То есть, после перехода на зону $122$ можно вернуться на $121$ и снова рисовать на ней. "
   ]
  },
  {
   "cell_type": "markdown",
   "metadata": {
    "colab_type": "text",
    "id": "c3LK77WeoyTF"
   },
   "source": [
    "### Задание - много линий\n",
    "\n",
    "Нарисуйте сеткой $(2, 3)$ графики прямых с коэффициентами наклона от 2 до 7 включительно."
   ]
  },
  {
   "cell_type": "code",
   "execution_count": null,
   "metadata": {
    "_cell_id": "De1Fk9dOxwlcsuQr"
   },
   "outputs": [],
   "source": [
    "import matplotlib.pyplot as plt\n",
    "import numpy as np\n",
    "\n",
    "x = np.linspace(0, 10, 50)\n",
    "x = np.linspace(0, 10, 50)\n",
    "\n",
    "_, axes = plt.subplots(2, 3, figsize=(12, 8))  # Создание сетки графиков 2x3\n",
    "\n",
    "slope_values = np.linspace(2, 7, 6)  # Значения коэффициентов наклона от 2 до 7\n",
    "for i, ax in enumerate(axes.flat):\n",
    "    slope = slope_values[i]\n",
    "    y = slope * x  # Уравнение прямой: y = kx, где k - коэффициент наклона\n",
    "\n",
    "    ax.plot(x, y, label=f'Slope = {slope}')  # Построение графика прямой\n",
    "    ax.set_xlabel('X')  # Название оси X\n",
    "    ax.set_ylabel('Y')  # Название оси Y\n",
    "    ax.set_title(f'Slope = {slope}')  # Заголовок графика\n",
    "    ax.legend()  # Вывод легенды\n",
    "    ax.grid(True)  # Включение сетки\n",
    "\n",
    "\n",
    "\n",
    "plt.tight_layout()\n",
    "plt.show()"
   ]
  },
  {
   "cell_type": "markdown",
   "metadata": {
    "colab_type": "text",
    "id": "Ap93X4P7iz-e"
   },
   "source": [
    "## Управление размером графика"
   ]
  },
  {
   "cell_type": "markdown",
   "metadata": {
    "colab_type": "text",
    "id": "0cW3xSldi96G"
   },
   "source": [
    "Мы уже столкнулись с системой, когда мы задаём индекс зоны рисования с помощью `plt.subplot()` и все дальнейшие вызовы `plt.*()` производят операции на этой зоне (кроме `plt.show()` и другие общих функций). \n",
    "\n",
    "А вы знали, что перед тем, как рисовать, надо создать область для рисования? Именно её делили на зоны отображения с помощью `plt.subplot()` или рисовали на всю область.\n",
    "\n",
    "Суть в том, что при вызове функций рисования для нас создаётся область автоматически, а можно её создать явно функцией `plt.figure()`.\n",
    "\n",
    "Чем это полезно? Для всех графиков мы задаём размер областей в настройке в начале файла: `mpl.rcParams['figure.figsize'] = (10, 6)`. Но если мы хотим сделать график больше/меньше, то перед рисованием мы можем задать область со своим размером:"
   ]
  },
  {
   "cell_type": "code",
   "execution_count": null,
   "metadata": {
    "_cell_id": "FnADVwp1YbWDn7tT",
    "colab": {
     "base_uri": "https://localhost:8080/",
     "height": 1000
    },
    "colab_type": "code",
    "executionInfo": {
     "elapsed": 5206,
     "status": "ok",
     "timestamp": 1598907665018,
     "user": {
      "displayName": "Alexey Devyatkin",
      "photoUrl": "https://lh3.googleusercontent.com/a-/AOh14GjZicdeEga0uI_adjvPG_ydk4aC9pHcJhRxHdlu=s64",
      "userId": "01450359895113891365"
     },
     "user_tz": -180
    },
    "id": "ElnDbzpTko64",
    "outputId": "ee90fb45-fc84-48f2-981c-604e7520052b"
   },
   "outputs": [],
   "source": [
    "x = np.linspace(0, 10, 50)\n",
    "\n",
    "# Размер также задается в дюймах\n",
    "plt.figure(figsize=(8, 4))\n",
    "plt.plot(x, x**2)\n",
    "\n",
    "plt.figure(figsize=(8, 8))\n",
    "plt.plot(x, x**2)\n",
    "\n",
    "plt.figure(figsize=(5, 8))\n",
    "plt.plot(x, x**2)"
   ]
  },
  {
   "cell_type": "markdown",
   "metadata": {
    "colab_type": "text",
    "id": "yfEtDN9Kmuhg"
   },
   "source": [
    "Видите, вызвав функцию три раза, создалось три области рисования. Использовать для отображения нескольких графиков такой подход не удобно, мы просто убедились, что вызовом `plt.figure()` с аргументом `figsize` мы управляем размером зоны.\n",
    "\n",
    "Поэтому, если вам необходимо переопределить размер графика по-умолчанию для конкретного случая - создайте явно область рисования со своими параметрами.\n",
    "\n",
    "> У `plt.figure()` есть много других возможностей. Одна из них, например, аналогично `plt.subplot()` - задание индекса. Можно задать индекс области рисования и затем возвращаться на нее. Такой функционал в ноутбуках используется крайне редко, но понимать, что такие возможности есть - полезно."
   ]
  },
  {
   "cell_type": "markdown",
   "metadata": {
    "colab_type": "text",
    "id": "79XokkUQnke3"
   },
   "source": [
    "### Задание - больше управления графиками\n",
    "\n",
    "Нарисуйте графики функций `np.log1p()` и `np.log()` в диапазоне $[0.1, 10]$. Задайте размер области отображения: $(15, 9)$."
   ]
  },
  {
   "cell_type": "code",
   "execution_count": null,
   "metadata": {
    "_cell_id": "mcTj0Bzb535YA5q6",
    "colab": {},
    "colab_type": "code",
    "id": "0SJEwJWKn2-J"
   },
   "outputs": [],
   "source": [
    "import matplotlib.pyplot as plt\n",
    "import numpy as np\n",
    "\n",
    "x = np.linspace(0.1, 10, 100)  # Задаем диапазон для x\n",
    "\n",
    "y_log1p = np.log1p(x)  \n",
    "y_log = np.log(x)  \n",
    "\n",
    "plt.figure(figsize=(15, 9))  # Задаем размер области отображения\n",
    "\n",
    "plt.plot(x, y_log1p, label='np.log1p(x)') \n",
    "plt.plot(x, y_log, label='np.log(x)')  \n",
    "plt.xlabel('x') \n",
    "plt.ylabel('y') \n",
    "plt.legend()  \n",
    "plt.grid(True)  # Включение сетки\n",
    "plt.show()\n"
   ]
  },
  {
   "cell_type": "markdown",
   "metadata": {
    "colab_type": "text",
    "id": "iQvXdqFipv7U"
   },
   "source": [
    "## Другой способ управления зонами отображения"
   ]
  },
  {
   "cell_type": "markdown",
   "metadata": {
    "colab_type": "text",
    "id": "1PbcmOoIp1xj"
   },
   "source": [
    "Альтернативным способом управления зонами является создание массива зон. После того, как массив создан, каждый элемент массива используется для рисования в конкретной ячейке."
   ]
  },
  {
   "cell_type": "code",
   "execution_count": null,
   "metadata": {
    "_cell_id": "WnY6hAJQPfgVU6Pr",
    "colab": {
     "base_uri": "https://localhost:8080/",
     "height": 378
    },
    "colab_type": "code",
    "executionInfo": {
     "elapsed": 5067,
     "status": "ok",
     "timestamp": 1598907665040,
     "user": {
      "displayName": "Alexey Devyatkin",
      "photoUrl": "https://lh3.googleusercontent.com/a-/AOh14GjZicdeEga0uI_adjvPG_ydk4aC9pHcJhRxHdlu=s64",
      "userId": "01450359895113891365"
     },
     "user_tz": -180
    },
    "id": "2WHOQkEOqLPT",
    "outputId": "81f55f7f-3b66-4ac5-cbd0-1ee73ceed193"
   },
   "outputs": [],
   "source": [
    "def f(t):\n",
    "    return np.exp(-t) * np.cos(2*np.pi*t)\n",
    "\n",
    "x1 = np.linspace(0, 5, 50)\n",
    "x2 = np.linspace(0, 5, 200)\n",
    "\n",
    "# Создаем массив с зонами\n",
    "# (*) squeeze - при установке этого флага и nrows=1 или ncols=1 - \n",
    "#       ось будет убрана и на выходе будет 1D массив вместо 2D\n",
    "# Возвращает:\n",
    "#   fig - объект Figure, для подробностей обратитесь к документации\n",
    "#   ax - массив объектов зон для рисования в сетке\n",
    "fig, ax = plt.subplots(nrows=2, ncols=1, squeeze=False)\n",
    "\n",
    "ax[0,0].plot(x1, f(x1), 'bo') \n",
    "ax[0,0].plot(x2, f(x2), 'k')\n",
    "ax[0,0].grid(True)\n",
    "\n",
    "ax[1,0].plot(x2, np.cos(2*np.pi*x2), 'r--')\n",
    "\n",
    "plt.show()"
   ]
  },
  {
   "cell_type": "markdown",
   "metadata": {
    "colab_type": "text",
    "id": "lQuHnc75tDDX"
   },
   "source": [
    "## Отображение текста"
   ]
  },
  {
   "cell_type": "markdown",
   "metadata": {
    "colab_type": "text",
    "id": "Kg8kga_1tFkp"
   },
   "source": [
    "Для отображения текста используется функция `plt.text()`:"
   ]
  },
  {
   "cell_type": "code",
   "execution_count": null,
   "metadata": {
    "_cell_id": "lUfUAmWsOV7D2Lp3",
    "colab": {
     "base_uri": "https://localhost:8080/",
     "height": 395
    },
    "colab_type": "code",
    "executionInfo": {
     "elapsed": 8893,
     "status": "ok",
     "timestamp": 1598907668990,
     "user": {
      "displayName": "Alexey Devyatkin",
      "photoUrl": "https://lh3.googleusercontent.com/a-/AOh14GjZicdeEga0uI_adjvPG_ydk4aC9pHcJhRxHdlu=s64",
      "userId": "01450359895113891365"
     },
     "user_tz": -180
    },
    "id": "4TfELVmltGnU",
    "outputId": "b9a47b3a-e7ce-4a0b-d36f-4345a28eb797"
   },
   "outputs": [],
   "source": [
    "# Создание данных для отображения распределения\n",
    "mu, sigma = 100, 15\n",
    "x = mu + sigma * np.random.randn(10000)\n",
    "\n",
    "# Отображение гистограммы\n",
    "# bins - количество колонок\n",
    "# density - суммарная плотность (нормализация к единичной суммы)\n",
    "# color - цвет отображения\n",
    "# alpha - немного прозрачности для визуализации\n",
    "n, bins, patches = plt.hist(x, bins=50, density=1, color='g', alpha=0.75)\n",
    "\n",
    "plt.xlabel('x')\n",
    "plt.ylabel('Вероятность')\n",
    "# Отображение текста\n",
    "# x, y - координаты расположения нижней левой точки текста\n",
    "# s - текст отображения\n",
    "plt.text(x=60, y=.025, s='mu=100, sgm=15')\n",
    "plt.grid(True)\n",
    "plt.show()"
   ]
  },
  {
   "cell_type": "markdown",
   "metadata": {
    "colab_type": "text",
    "id": "Q7cWwyPpuvoU"
   },
   "source": [
    "Для отображения стрелки с аннотацией используется функция `plt.annotate()`"
   ]
  },
  {
   "cell_type": "code",
   "execution_count": null,
   "metadata": {
    "_cell_id": "gu8G1ukZV352IVGU",
    "colab": {
     "base_uri": "https://localhost:8080/",
     "height": 384
    },
    "colab_type": "code",
    "executionInfo": {
     "elapsed": 8799,
     "status": "ok",
     "timestamp": 1598907669008,
     "user": {
      "displayName": "Alexey Devyatkin",
      "photoUrl": "https://lh3.googleusercontent.com/a-/AOh14GjZicdeEga0uI_adjvPG_ydk4aC9pHcJhRxHdlu=s64",
      "userId": "01450359895113891365"
     },
     "user_tz": -180
    },
    "id": "9qndEuknu3xA",
    "outputId": "dd12b17b-fbaa-4e9a-8227-0bea53c544a4"
   },
   "outputs": [],
   "source": [
    "x = np.arange(0.0, 5.0, 0.01)\n",
    "y = np.cos(2*np.pi*x)\n",
    "plt.plot(x, y, lw=2)\n",
    "\n",
    "# Аннотация со стрелкой\n",
    "# xy - кортеж положения конца стрелки по координатам\n",
    "# xytext - кортеж положения текста по координатам\n",
    "# arrowprops - словарь со свойствами описания стрелки\n",
    "plt.annotate(\n",
    "    'Локальный макс.', \n",
    "    xy=(2, 1), \n",
    "    xytext=(3, 1.5),\n",
    "    arrowprops=dict(facecolor='black', shrink=0.05),\n",
    ")\n",
    "\n",
    "# Задаем предел отображения по оси Y\n",
    "plt.ylim(-2, 2)\n",
    "plt.grid(True)\n",
    "plt.show()"
   ]
  },
  {
   "cell_type": "markdown",
   "metadata": {
    "colab_type": "text",
    "id": "NnwMq125v1RD"
   },
   "source": [
    "### Задание - вспомним параболу\n",
    "\n",
    "Отобразите функцию параболы $y=k-x^2$ в диапазоне $x$ $[-3; 3]$ и подпишите точку экстремума для $k = [-1, 0, 1]$. Необходимо нарисовать все три графика с подписями с помощью зон отображения."
   ]
  },
  {
   "cell_type": "code",
   "execution_count": null,
   "metadata": {
    "_cell_id": "Vdvnjnek6HZ7ylAG"
   },
   "outputs": [],
   "source": [
    "import matplotlib.pyplot as plt\n",
    "import numpy as np\n",
    "\n",
    "x = np.linspace(-3, 3, 100) \n",
    "k_values = [-1, 0, 1] \n",
    "\n",
    "_, axs = plt.subplots(1, 3, figsize=(15, 5))  # Создаем три зоны отображения для каждого значения k\n",
    "\n",
    "for i, k in enumerate(k_values):\n",
    "    y = k - x ** 2 \n",
    "\n",
    "    axs[i].plot(x, y, label=f'k = {k}')  # Построение графика параболы\n",
    "    axs[i].set_xlabel('x')  \n",
    "    axs[i].set_ylabel('y')  \n",
    "    axs[i].set_title(f'Парабола для k = {k}')\n",
    "\n",
    "    # Находим точку экстремума (вершина параболы)\n",
    "    extremum_x = 0\n",
    "    extremum_y = k\n",
    "    axs[i].scatter(extremum_x, extremum_y, color='red')  # Отмечаем точку экстремума красной точкой\n",
    "    axs[i].annotate(f'({extremum_x}, {extremum_y})', (extremum_x, extremum_y), xytext=(-20, 30),\n",
    "                    textcoords='offset points', arrowprops=dict(arrowstyle='->', connectionstyle='arc3,rad=.5'))\n",
    "\n",
    "plt.tight_layout()  \n",
    "plt.show()  \n",
    "#TODO "
   ]
  },
  {
   "cell_type": "markdown",
   "metadata": {
    "colab_type": "text",
    "id": "Izr7745ax-8_"
   },
   "source": [
    "## Отображение в логарифмическом масштабе"
   ]
  },
  {
   "cell_type": "markdown",
   "metadata": {
    "colab_type": "text",
    "id": "2Y1f-J6xyE6m"
   },
   "source": [
    "Для отображения в логарифмическом масштабе используются функции `plt.yscale()`/`plt.xscale()`:"
   ]
  },
  {
   "cell_type": "code",
   "execution_count": null,
   "metadata": {
    "_cell_id": "y2Jtpd1KpMlijnwU",
    "colab": {
     "base_uri": "https://localhost:8080/",
     "height": 384
    },
    "colab_type": "code",
    "executionInfo": {
     "elapsed": 10997,
     "status": "ok",
     "timestamp": 1598907671319,
     "user": {
      "displayName": "Alexey Devyatkin",
      "photoUrl": "https://lh3.googleusercontent.com/a-/AOh14GjZicdeEga0uI_adjvPG_ydk4aC9pHcJhRxHdlu=s64",
      "userId": "01450359895113891365"
     },
     "user_tz": -180
    },
    "id": "luohVuiEwO65",
    "outputId": "e51cfb45-5ec9-4606-e2b4-f2464ea76de6"
   },
   "outputs": [],
   "source": [
    "x = np.linspace(0, 5, 50)\n",
    "y = x*2\n",
    "\n",
    "plt.subplot(221)\n",
    "plt.plot(x, y)\n",
    "plt.yscale('linear')\n",
    "plt.grid(True)\n",
    "\n",
    "plt.subplot(222)\n",
    "plt.plot(x, y)\n",
    "plt.yscale('log')\n",
    "plt.grid(True)\n",
    "\n",
    "plt.subplot(223)\n",
    "plt.plot(x, y)\n",
    "plt.xscale('log')\n",
    "plt.grid(True)"
   ]
  },
  {
   "cell_type": "markdown",
   "metadata": {
    "colab_type": "text",
    "id": "TRY93HB3mAPy"
   },
   "source": [
    "## Задачки"
   ]
  },
  {
   "cell_type": "markdown",
   "metadata": {
    "colab_type": "text",
    "id": "f3HAa2OZM2g4"
   },
   "source": [
    "Отобразите две функции на одном графике:\n",
    "- $y = sin(x)$ толщиной 2, красным цветом пунктиром;\n",
    "- $y = cos(x)+1$ толщиной 1, синим цветом крестиками;"
   ]
  },
  {
   "cell_type": "code",
   "execution_count": null,
   "metadata": {
    "_cell_id": "XZOjphoHhudlK1tr",
    "colab": {},
    "colab_type": "code",
    "id": "zUjGb7rrl1oj"
   },
   "outputs": [],
   "source": [
    "import matplotlib.pyplot as plt\n",
    "import numpy as np\n",
    "\n",
    "x = np.linspace(0, 2 * np.pi, 50)  \n",
    "y_sin = np.sin(x) \n",
    "y_cos = np.cos(x) + 1  \n",
    "\n",
    "plt.plot(x, y_sin, color='red', linestyle='--', linewidth=2, label='y = sin(x)')  # График синуса\n",
    "plt.plot(x, y_cos, color='blue', marker='x', linestyle='', linewidth=1, label='y = cos(x) + 1')  # График косинуса смещенного на 1\n",
    "\n",
    "plt.xlabel('x')  # Название оси x\n",
    "plt.ylabel('y')  # Название оси y\n",
    "plt.title('Графики функций sin(x) и cos(x) + 1')  # Заголовок графика\n",
    "plt.legend()  \n",
    "plt.show() \n",
    "# TODO"
   ]
  },
  {
   "cell_type": "markdown",
   "metadata": {
    "colab_type": "text",
    "id": "kH7j1bHuNSYW"
   },
   "source": [
    "Отобразите график, чтобы точки данных были синими с радиусом 3, при этом точки должны быть соединены зелеными пунктирными линиями:\n",
    "\n",
    "> Обратите внимание, что в документации `scatter()` аргумент `s` задает кол-во точек внутри маркера (площадь)"
   ]
  },
  {
   "cell_type": "code",
   "execution_count": null,
   "metadata": {
    "_cell_id": "x6Vd3mkq9aBRVIwR"
   },
   "outputs": [],
   "source": [
    "import matplotlib.pyplot as plt\n",
    "import numpy as np\n",
    "x = np.array([1, 4, 5, 6, 7])\n",
    "y = np.array([2, 6, 3, 6, 7])\n",
    "plt.scatter(x, y, s=50, color='blue', edgecolors='black')  # Установка радиуса точек на 50\n",
    "\n",
    "plt.plot(x, y, linestyle='--', color='green')  # Соединение точек зелеными пунктирными линиями\n",
    "\n",
    "plt.xlabel('X')  # Название оси X\n",
    "plt.ylabel('Y')  # Название оси Y\n",
    "plt.title('График с точками и линиями')  # Заголовок графика\n",
    "\n",
    "plt.show()  # Отображение графика\n",
    "# TODO"
   ]
  },
  {
   "cell_type": "markdown",
   "metadata": {
    "colab_type": "text",
    "id": "lzsXxABDOHYT"
   },
   "source": [
    "Нарисуйте данные графиками колонок (bar chart) на двух разных зонах отображения для каждой группы:"
   ]
  },
  {
   "cell_type": "code",
   "execution_count": null,
   "metadata": {
    "_cell_id": "WLDd6slyNGEpQNvr"
   },
   "outputs": [],
   "source": [
    "import matplotlib.pyplot as plt\n",
    "import numpy as np\n",
    "\n",
    "group1_scores = (22, 30, 33, 30, 26)\n",
    "group2_scores = (25, 32, 30, 35, 29)\n",
    "x_labels = ['G1', 'G2', 'G3', 'G4', 'G5']\n",
    "\n",
    "fig, axs = plt.subplots(1, 2, figsize=(10, 5))  # Создаем две зоны отображения\n",
    "\n",
    "x = np.arange(len(x_labels))  # Создаем массив для оси x\n",
    "\n",
    "# Первая зона отображения для group1_scores\n",
    "axs[0].bar(x, group1_scores, color='skyblue')\n",
    "axs[0].set_xticks(x)\n",
    "axs[0].set_xticklabels(x_labels)\n",
    "axs[0].set_title('Group 1 Scores')\n",
    "\n",
    "# Вторая зона отображения для group2_scores\n",
    "axs[1].bar(x, group2_scores, color='salmon')\n",
    "axs[1].set_xticks(x)\n",
    "axs[1].set_xticklabels(x_labels)\n",
    "axs[1].set_title('Group 2 Scores')\n",
    "\n",
    "plt.tight_layout()  # Корректное размещение графиков внутри области фигуры\n",
    "plt.show()  # Отображение графиков\n",
    "# TODO"
   ]
  },
  {
   "cell_type": "markdown",
   "metadata": {
    "colab_type": "text",
    "id": "iiEH7Og7R2QT"
   },
   "source": [
    "Отобразите средние значения для каждой группы со стандартными отклонениями:"
   ]
  },
  {
   "cell_type": "code",
   "execution_count": null,
   "metadata": {
    "_cell_id": "Ey4uciK44OUKn34D"
   },
   "outputs": [],
   "source": [
    "import matplotlib.pyplot as plt\n",
    "import numpy as np\n",
    "\n",
    "groups_means = (54.74, 42.35, 67.37, 58.24, 30.25)\n",
    "groups_stds = (4, 3, 4, 1, 5)\n",
    "x_labels = ['G1', 'G2', 'G3', 'G4', 'G5']\n",
    "\n",
    "x = np.arange(len(x_labels))  # Создаем массив для оси x\n",
    "\n",
    "plt.bar(x, groups_means, yerr=groups_stds, capsize=5, align='center', alpha=0.7, label='ср')\n",
    "plt.xticks(x, x_labels)\n",
    "plt.xlabel('Groups')\n",
    "plt.ylabel('Scores')\n",
    "plt.title('Средние баллы со стандартными отклонениями')\n",
    "\n",
    "plt.legend()\n",
    "plt.tight_layout()\n",
    "plt.show()\n",
    "\n",
    "\n",
    "# TODO"
   ]
  },
  {
   "cell_type": "markdown",
   "metadata": {
    "colab_type": "text",
    "id": "6PgMStWaSwsx"
   },
   "source": [
    "Отобразите данные точечным графиком, в котором цвет зависит от номера группы `groups`, а размер точки зависит от показателя площади `areas`."
   ]
  },
  {
   "cell_type": "code",
   "execution_count": null,
   "metadata": {
    "_cell_id": "XaOav4KXwkJgLee6"
   },
   "outputs": [],
   "source": [
    "import matplotlib.pyplot as plt\n",
    "import numpy as np\n",
    "\n",
    "n_samples = 20\n",
    "x = np.random.randint(0, 10, size=n_samples)\n",
    "y = np.random.randint(-10, 0, size=n_samples)\n",
    "areas = np.pi * np.random.randint(5, 15, size=n_samples)**2\n",
    "groups = np.random.randint(0, 3, size=n_samples)\n",
    "\n",
    "plt.scatter(x, y, s=areas, c=groups, cmap='viridis', alpha=0.7)\n",
    "plt.xlabel('X')\n",
    "plt.ylabel('Y')\n",
    "plt.title('Точечный график с цветом и размером точек')\n",
    "\n",
    "plt.colorbar(label='Группы')\n",
    "plt.show()\n",
    "# TODO"
   ]
  }
 ],
 "metadata": {
  "colab": {
   "collapsed_sections": [],
   "name": "Pr02_Visualization.ipynb",
   "provenance": [],
   "toc_visible": true
  },
  "kernelspec": {
   "display_name": "Python 3 (ipykernel)",
   "language": "python",
   "name": "python3"
  },
  "language_info": {
   "codemirror_mode": {
    "name": "ipython",
    "version": 3
   },
   "file_extension": ".py",
   "mimetype": "text/x-python",
   "name": "python",
   "nbconvert_exporter": "python",
   "pygments_lexer": "ipython3",
   "version": "3.10.11"
  },
  "vscode": {
   "interpreter": {
    "hash": "5ef4d00d2bd0c756646408250b3e0222db1655439c25a4f11279476b8286db07"
   }
  }
 },
 "nbformat": 4,
 "nbformat_minor": 4
}
