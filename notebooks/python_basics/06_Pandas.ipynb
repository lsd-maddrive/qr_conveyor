{
 "cells": [
  {
   "cell_type": "markdown",
   "metadata": {
    "id": "_hmXpj3l1WIL"
   },
   "source": [
    "# Pandas (Часть 1)"
   ]
  },
  {
   "cell_type": "markdown",
   "metadata": {},
   "source": [
    "> 🚀 В этой практике нам понадобятся: `numpy==1.21.2, pandas==1.5.0` \n",
    "\n",
    "> 🚀 Установить вы их можете с помощью команды: `%pip install numpy==1.21.2 pandas==1.5.0` \n"
   ]
  },
  {
   "cell_type": "markdown",
   "metadata": {},
   "source": [
    "## Содержание\n",
    "\n",
    "* [Создание объекта таблицы](#Создание-объекта-таблицы)\n",
    "  * [Задание - моя первая таблица!](#Задание---моя-первая-таблица)\n",
    "* [Создание фрейма из словарей](#Создание-фрейма-из-словарей)\n",
    "* [Типы данных](#Типы-данных)\n",
    "* [Обзор данных](#Обзор-данных)\n",
    "* [Обращение к данным](#Обращение-к-данным)\n",
    "  * [Задание - выделяем часть](#Задание---выделяем-часть)\n"
   ]
  },
  {
   "cell_type": "markdown",
   "metadata": {},
   "source": [
    "В этом ноутбуке:\n",
    "- Что за тип такой - Dataframe\n",
    "- Из словарей в таблицу\n",
    "- Подробнее о типах данных, используемых для создания Dataframe\n",
    "- Что делать в первую очередь с таблицей? Полезные функции для первого впечатления\n",
    "- Обращение к данным (индексация [ ], loc/iloc и т.д.)"
   ]
  },
  {
   "cell_type": "markdown",
   "metadata": {
    "id": "ZvFbiSZm1bP7"
   },
   "source": [
    "Pandas - это библиотека для работы с табличными данными. Просто незаменимая в нашей последующей работе\n",
    "\n",
    "<img src=\"https://raw.githubusercontent.com/AleksDevEdu/ml_edu/master/assets/logo/pd-white-logo.svg\" height=\"150px\"></img>\n",
    "\n",
    "**Pandas ≡ Таблицы**\n",
    "\n",
    "Как всегда, [официальный сайт](https://pandas.pydata.org/) предоставляет самую актуальную и полезную информацию. Доки по функциям и классам [здесь](https://pandas.pydata.org/pandas-docs/stable/reference/index.html)."
   ]
  },
  {
   "cell_type": "markdown",
   "metadata": {
    "id": "TlwBz_g72OMg"
   },
   "source": [
    "Импорт библиотеки с устоявшимся сокращением:"
   ]
  },
  {
   "cell_type": "code",
   "execution_count": null,
   "metadata": {
    "_cell_id": "XeeSaOcAa2qtQPoO",
    "id": "JGQnosLe2TiZ"
   },
   "outputs": [],
   "source": [
    "import pandas as pd\n",
    "import numpy as np"
   ]
  },
  {
   "cell_type": "markdown",
   "metadata": {
    "id": "lD9rbk7k2auF"
   },
   "source": [
    "## Создание объекта таблицы"
   ]
  },
  {
   "cell_type": "markdown",
   "metadata": {
    "id": "M6V26pIT2if3"
   },
   "source": [
    "Начнём с простого создания объекта основного класса в pandas - `DataFrame`. \n",
    "\n",
    "Фреймы в pandas представляют собой двумёрные массивы (матрицы) данных. Для применения в машинном обучении визуально можно представить данные следующим образом:\n",
    "\n",
    "$$\n",
    "X = \n",
    "\\begin{bmatrix}\n",
    "x^{(1)}_1 & \\dots & x^{(1)}_{m-1} & x^{(1)}_m \\\\\n",
    "x^{(2)}_1 & \\dots & x^{(2)}_{m-1} & x^{(2)}_m \\\\\n",
    "\\vdots & \\ddots &  \\vdots & \\vdots  \\\\\n",
    "x^{(n)}_1 & \\dots & x^{(n)}_{m-1} & x^{(n)}_m \\\\\n",
    "\\end{bmatrix}\n",
    "$$\n",
    "\n",
    "где $n$ - количество записей (сэмплов/рядов) в данных, $m$ - количество признаков (предикторов/фич) в данных.\n",
    "\n",
    "> **Признаки** в данных - это те данные, на основе которых производится анализ данных, обучение модели и предсказание. В реальной задаче признаками могут быть \"цена\", \"пол\", \"группа крови\", \"текст в заявке\" и т.д. [Колонки в таблице]\n",
    "\n",
    "> **Записи** в данных - сущности, каждая из которых имеет свой набор значений признаков. В базе данных банка это могут быть отдельные транзакции. Все транзакции имеют одинаковые признаки, но значения этих признаков у каждой записи свои. [Строки в таблице]"
   ]
  },
  {
   "cell_type": "markdown",
   "metadata": {
    "id": "YGZ0Le_m6866"
   },
   "source": [
    "Создание `DataFrame` возможно разными способами, для начала попробуем создать фрейм из двумерного массива:"
   ]
  },
  {
   "cell_type": "code",
   "execution_count": null,
   "metadata": {
    "_cell_id": "AST0VqJ8vmTByO9m",
    "colab": {
     "base_uri": "https://localhost:8080/",
     "height": 98
    },
    "executionInfo": {
     "elapsed": 4832,
     "status": "ok",
     "timestamp": 1598976560101,
     "user": {
      "displayName": "Алексей Девяткин",
      "photoUrl": "",
      "userId": "11945040185410340858"
     },
     "user_tz": -180
    },
    "id": "6ffPZfw67l5u",
    "outputId": "c0ed009e-90ee-484e-e84d-a5ba2fef6e1c"
   },
   "outputs": [],
   "source": [
    "arr = np.random.randint(0, 10, size=(5, 3))\n",
    "print(arr)"
   ]
  },
  {
   "cell_type": "code",
   "execution_count": null,
   "metadata": {
    "_cell_id": "QB5JzmqoBddmotSO",
    "colab": {
     "base_uri": "https://localhost:8080/",
     "height": 191
    },
    "executionInfo": {
     "elapsed": 4797,
     "status": "ok",
     "timestamp": 1598976560103,
     "user": {
      "displayName": "Алексей Девяткин",
      "photoUrl": "",
      "userId": "11945040185410340858"
     },
     "user_tz": -180
    },
    "id": "AHGZmnLI7x6R",
    "outputId": "728a9a92-0482-496d-cba9-9971cb0f967b"
   },
   "outputs": [],
   "source": [
    "# Создание фрейма - просто вызвать конструктор\n",
    "df = pd.DataFrame(data=arr)\n",
    "# Фреймы удобнее отображать с помощью встроенных средств Jupyter\n",
    "df"
   ]
  },
  {
   "cell_type": "markdown",
   "metadata": {
    "id": "GDmWQFBI9TmN"
   },
   "source": [
    "В представленном фрейме важно отметить две особенности:\n",
    "- Колонки (признаки) имеют имена, но так как мы их (имена) не задали, то они создались автоматически;\n",
    "- Каждая строка (запись) имеет **уникальный** индекс, тоже создались сами, так как мы не передавали своих индексов.\n",
    "\n",
    "Для задания имен колонок используется аргумент в конструкторе `columns`, в который передаёся список имён по количеству признаков. \n",
    "\n",
    "Для задания индексов аргумент `index`, в который передаётся список индексов по количеству записей в массиве."
   ]
  },
  {
   "cell_type": "markdown",
   "metadata": {
    "id": "kcJdh-ES_bsy"
   },
   "source": [
    "### Задание - моя первая таблица!\n",
    "\n",
    "Создайте фрейм с именами колонок `'col_1', 'col_2', 'col_3'` и индексами по алфавиту (`'A', 'B', 'C', ...` или `'A', 'Б', 'В', ...`)."
   ]
  },
  {
   "cell_type": "code",
   "execution_count": null,
   "metadata": {
    "_cell_id": "yTXQayFWfbhpL8kS",
    "id": "fes-4j4U_1ts"
   },
   "outputs": [],
   "source": [
    "import pandas as pd\n",
    "import numpy as np\n",
    "# TODO\n",
    "arr = np.random.randint(0, 10, size=(5, 3))\n",
    "index = ('A', 'B', 'C', 'D', 'E')\n",
    "columns = ('col_1', 'col_2', 'col_3')\n",
    "df = pd.DataFrame(data = arr, index = index, columns = columns)\n",
    "# Фреймы удобнее отображать с помощью встроенных средств Jupyter\n",
    "print(df)"
   ]
  },
  {
   "cell_type": "markdown",
   "metadata": {
    "id": "kdd9oZeYBd3P"
   },
   "source": [
    "## Создание фрейма из словарей"
   ]
  },
  {
   "cell_type": "markdown",
   "metadata": {
    "id": "E1TqHsVxBhKy"
   },
   "source": [
    "Другим способом создания фрейма является конструктор на основе словаря с данными:"
   ]
  },
  {
   "cell_type": "code",
   "execution_count": null,
   "metadata": {
    "_cell_id": "lCSF1yAhXPfJTTUd",
    "colab": {
     "base_uri": "https://localhost:8080/",
     "height": 162
    },
    "executionInfo": {
     "elapsed": 4698,
     "status": "ok",
     "timestamp": 1598976560105,
     "user": {
      "displayName": "Алексей Девяткин",
      "photoUrl": "",
      "userId": "11945040185410340858"
     },
     "user_tz": -180
    },
    "id": "ifWrFrLUCJ5r",
    "outputId": "2b916cf5-72d0-4854-8958-801fe78725e1"
   },
   "outputs": [],
   "source": [
    "# Создаётся словарь, в котором ключи будут названиями колонок,\n",
    "#   а значения - данные по этим колонкам\n",
    "data = {\n",
    "    'test_1_mark': [4.6, 3.8, 5.0, 4.5],\n",
    "    'test_2_mark': [5.0, 3.9, 4.7, 4.5]\n",
    "}\n",
    "\n",
    "pd.DataFrame(data)"
   ]
  },
  {
   "cell_type": "markdown",
   "metadata": {
    "id": "qr6mFv5xDmZc"
   },
   "source": [
    "Альтернативой использования словарей является создание массива словарей:"
   ]
  },
  {
   "cell_type": "code",
   "execution_count": null,
   "metadata": {
    "_cell_id": "dEKseu2Ac13fA61e",
    "colab": {
     "base_uri": "https://localhost:8080/",
     "height": 133
    },
    "executionInfo": {
     "elapsed": 4655,
     "status": "ok",
     "timestamp": 1598976560106,
     "user": {
      "displayName": "Алексей Девяткин",
      "photoUrl": "",
      "userId": "11945040185410340858"
     },
     "user_tz": -180
    },
    "id": "C037OQaSD8yY",
    "outputId": "18e4803d-e0af-49e4-e85f-4c91027bb0b1"
   },
   "outputs": [],
   "source": [
    "# Создается список записей, каждая запись представлена словарем\n",
    "# В словаре ключи - названия колонок\n",
    "# При создании фрейма pandas просмотри все возможные ключи словарей в списке\n",
    "#   и создаст колонок по их названиям\n",
    "data = [\n",
    "    {\n",
    "        'test_1_mark': 4.6,\n",
    "        'test_2_mark': 5.0\n",
    "    },\n",
    "    {\n",
    "        'test_1_mark': 3.8,\n",
    "        'test_2_mark': 3.9\n",
    "    },\n",
    "    {\n",
    "        'test_1_mark': 5.0\n",
    "    },\n",
    "]\n",
    "\n",
    "pd.DataFrame(data)"
   ]
  },
  {
   "cell_type": "markdown",
   "metadata": {
    "id": "Xz-spCzKEl4m"
   },
   "source": [
    "Обратите внимание, в одной записи отсутствовало значение для колонки и во фрейме такое значение обозначено как `NaN`.\n",
    "\n",
    "> **NaN** (Not a Number) - представление пропусков во фрейме.\n",
    "\n",
    "Пропуски в данных явление достаточно распространённое. Например, если данные собираются путём анкетирования, то опциональный вопрос может не иметь ответа, поэтому такие записи пропускаются. При разработке моделей машинного обучения с пропусками ведётся отдельная работа, но для сырых данных - это нормальное явление."
   ]
  },
  {
   "cell_type": "markdown",
   "metadata": {
    "id": "N8tbu882Hmqj"
   },
   "source": [
    "## Типы данных"
   ]
  },
  {
   "cell_type": "markdown",
   "metadata": {
    "id": "JhS1UIMCHoIE"
   },
   "source": [
    "Как и в numpy, pandas поддерживает различные типы данных. Для примера создадим фрейм, в котором колонки имеют разные типы данных:"
   ]
  },
  {
   "cell_type": "code",
   "execution_count": null,
   "metadata": {
    "_cell_id": "syHd1nFfpB9JtO6Z",
    "colab": {
     "base_uri": "https://localhost:8080/",
     "height": 162
    },
    "executionInfo": {
     "elapsed": 4617,
     "status": "ok",
     "timestamp": 1598976560107,
     "user": {
      "displayName": "Алексей Девяткин",
      "photoUrl": "",
      "userId": "11945040185410340858"
     },
     "user_tz": -180
    },
    "id": "Gals1YglIwGr",
    "outputId": "82461088-01ef-43f4-bb09-484cf6551447"
   },
   "outputs": [],
   "source": [
    "df = pd.DataFrame({'A': 1.,\n",
    "                   'B': pd.Timestamp('20130102'),\n",
    "                   'C': np.array([2.] * 4, dtype='float32'),\n",
    "                   'D': np.array([3] * 4, dtype='int32'),\n",
    "                   'E': pd.Categorical([\"test\", \"train\", \"test\", \"train\"]),\n",
    "                   'F': 'foo'})\n",
    "df"
   ]
  },
  {
   "cell_type": "markdown",
   "metadata": {
    "id": "RmHIzPEnJCj3"
   },
   "source": [
    "Как видите, создаётся фрейм, в котором каждая колонка имеет свой тип. Из них для нас имеются два новых типа:\n",
    "- `Timestamp` - конструктор для временного типа в pandas (`datetime64`);\n",
    "- `Categorical` - категориальный тип, который в большинстве своём является альтернативой численным данным.\n",
    "\n",
    "> **Категориальные данные** - данные, значения которых ограничены списком категорий (одно из возможных значений);\n",
    "\n",
    "> **Численные данные** - данные, которые имеют численное значение (вещественное или целочисленное).\n",
    "\n",
    "Для просмотра информации о фрейме полезно использовать метод `DataFrame.info()`:"
   ]
  },
  {
   "cell_type": "code",
   "execution_count": null,
   "metadata": {
    "_cell_id": "5XCiCqpZmUegq80y",
    "colab": {
     "base_uri": "https://localhost:8080/",
     "height": 228
    },
    "executionInfo": {
     "elapsed": 4581,
     "status": "ok",
     "timestamp": 1598976560108,
     "user": {
      "displayName": "Алексей Девяткин",
      "photoUrl": "",
      "userId": "11945040185410340858"
     },
     "user_tz": -180
    },
    "id": "yQ-DhPj8I7HZ",
    "outputId": "af4270c1-b732-4332-dcbb-3dcc8a37a91f"
   },
   "outputs": [],
   "source": [
    "df.info()"
   ]
  },
  {
   "cell_type": "markdown",
   "metadata": {
    "id": "MKHizp4tLCQ3"
   },
   "source": [
    "Если тип данных не задан явно как категориальный, то строки будут иметь тип `object`, как универсальный тип данных."
   ]
  },
  {
   "cell_type": "markdown",
   "metadata": {
    "id": "XtXeG0mrNRwW"
   },
   "source": [
    "## Обзор данных"
   ]
  },
  {
   "cell_type": "markdown",
   "metadata": {
    "id": "9EM78zz3NTY1"
   },
   "source": [
    "Начало любого анализа данных происходит с того, что мы должны разобраться, с чем имеем дело, поэтому возможности быстрого обзора данных - то, что нужно:"
   ]
  },
  {
   "cell_type": "code",
   "execution_count": null,
   "metadata": {
    "_cell_id": "rp10EOUGtFiHPAZo",
    "colab": {
     "base_uri": "https://localhost:8080/",
     "height": 162
    },
    "executionInfo": {
     "elapsed": 4515,
     "status": "ok",
     "timestamp": 1598976560109,
     "user": {
      "displayName": "Алексей Девяткин",
      "photoUrl": "",
      "userId": "11945040185410340858"
     },
     "user_tz": -180
    },
    "id": "bJNK6MJANiJc",
    "outputId": "1dd55dbd-30df-4414-dd98-bf600d1f6103"
   },
   "outputs": [],
   "source": [
    "df = pd.DataFrame(\n",
    "    data=np.random.randint(-10, 10, size=(15, 3)), \n",
    "    columns=['x1', 'x2', 'x3']\n",
    ")\n",
    "\n",
    "# Функция получения первых записей фрейма\n",
    "# Аргументом задаётся количество выводимых данных\n",
    "#   Если не задано - 5 по-умолчанию\n",
    "df.head(4)"
   ]
  },
  {
   "cell_type": "code",
   "execution_count": null,
   "metadata": {
    "_cell_id": "C61HvrD82wZJ5osQ",
    "colab": {
     "base_uri": "https://localhost:8080/",
     "height": 162
    },
    "executionInfo": {
     "elapsed": 4466,
     "status": "ok",
     "timestamp": 1598976560109,
     "user": {
      "displayName": "Алексей Девяткин",
      "photoUrl": "",
      "userId": "11945040185410340858"
     },
     "user_tz": -180
    },
    "id": "cuGijZBWN0Rc",
    "outputId": "b993fa40-d082-4760-cdb7-4b81b9e7c61b"
   },
   "outputs": [],
   "source": [
    "# Функция получения последних записей фрейма\n",
    "# Аргументом задаётся количество выводимых данных\n",
    "#   Если не задано - 5 по-умолчанию\n",
    "df.tail(4)"
   ]
  },
  {
   "cell_type": "code",
   "execution_count": null,
   "metadata": {
    "_cell_id": "PLlAPhP6HGpJRYaC",
    "colab": {
     "base_uri": "https://localhost:8080/",
     "height": 180
    },
    "executionInfo": {
     "elapsed": 4424,
     "status": "ok",
     "timestamp": 1598976560110,
     "user": {
      "displayName": "Алексей Девяткин",
      "photoUrl": "",
      "userId": "11945040185410340858"
     },
     "user_tz": -180
    },
    "id": "uXCm5zZiN6HB",
    "outputId": "d6aa3fdd-4aea-4cd5-bce6-7d24ca3419a3"
   },
   "outputs": [],
   "source": [
    "# Функция отображения основной информации о фрейме:\n",
    "#   Количество записей\n",
    "#   Типы колонок\n",
    "#   Количество ненулевых значений\n",
    "#   Тип индекса\n",
    "df.info()"
   ]
  },
  {
   "cell_type": "code",
   "execution_count": null,
   "metadata": {
    "_cell_id": "Zd4uddQCDBtMbqQ7",
    "colab": {
     "base_uri": "https://localhost:8080/",
     "height": 277
    },
    "executionInfo": {
     "elapsed": 4381,
     "status": "ok",
     "timestamp": 1598976560111,
     "user": {
      "displayName": "Алексей Девяткин",
      "photoUrl": "",
      "userId": "11945040185410340858"
     },
     "user_tz": -180
    },
    "id": "Y0MfbDxMOPC4",
    "outputId": "a503c757-8979-49db-e0c7-839e80168e2e"
   },
   "outputs": [],
   "source": [
    "# Функция отображения статистики по численным колонкам\n",
    "df.describe()"
   ]
  },
  {
   "cell_type": "code",
   "execution_count": null,
   "metadata": {
    "_cell_id": "9gYGzNHaoGSHdbJ1",
    "colab": {
     "base_uri": "https://localhost:8080/",
     "height": 33
    },
    "executionInfo": {
     "elapsed": 4347,
     "status": "ok",
     "timestamp": 1598976560112,
     "user": {
      "displayName": "Алексей Девяткин",
      "photoUrl": "",
      "userId": "11945040185410340858"
     },
     "user_tz": -180
    },
    "id": "-kRXV1P2OfHP",
    "outputId": "0ac07d1c-d60a-481b-dcdf-06771890f957"
   },
   "outputs": [],
   "source": [
    "# Атрибут получения индексов фрейма\n",
    "df.index"
   ]
  },
  {
   "cell_type": "code",
   "execution_count": null,
   "metadata": {
    "_cell_id": "ZPI4I4ZbgOZLXqf0",
    "colab": {
     "base_uri": "https://localhost:8080/",
     "height": 33
    },
    "executionInfo": {
     "elapsed": 4312,
     "status": "ok",
     "timestamp": 1598976560112,
     "user": {
      "displayName": "Алексей Девяткин",
      "photoUrl": "",
      "userId": "11945040185410340858"
     },
     "user_tz": -180
    },
    "id": "TsPphCdAapK9",
    "outputId": "d15ca1d3-cb09-4ba6-a416-003956443414"
   },
   "outputs": [],
   "source": [
    "# Или чтобы представить в виде списка\n",
    "list(df.index)"
   ]
  },
  {
   "cell_type": "code",
   "execution_count": null,
   "metadata": {
    "_cell_id": "L3aNqb2BfTkSH2Ew",
    "colab": {
     "base_uri": "https://localhost:8080/",
     "height": 33
    },
    "executionInfo": {
     "elapsed": 4279,
     "status": "ok",
     "timestamp": 1598976560113,
     "user": {
      "displayName": "Алексей Девяткин",
      "photoUrl": "",
      "userId": "11945040185410340858"
     },
     "user_tz": -180
    },
    "id": "H-ohc7UJOmIO",
    "outputId": "1642f294-03b1-4d46-f474-a6a50184b5e6"
   },
   "outputs": [],
   "source": [
    "# Атрибут получения имён колонок фрейма\n",
    "df.columns"
   ]
  },
  {
   "cell_type": "code",
   "execution_count": null,
   "metadata": {
    "_cell_id": "yTvfPipeNlcgIfjF",
    "colab": {
     "base_uri": "https://localhost:8080/",
     "height": 33
    },
    "executionInfo": {
     "elapsed": 4238,
     "status": "ok",
     "timestamp": 1598976560114,
     "user": {
      "displayName": "Алексей Девяткин",
      "photoUrl": "",
      "userId": "11945040185410340858"
     },
     "user_tz": -180
    },
    "id": "na-OEHT92dln",
    "outputId": "27c541dc-841d-4597-a259-0bff1da2b41e"
   },
   "outputs": [],
   "source": [
    "# Атрибут размерности фрейма\n",
    "df.shape"
   ]
  },
  {
   "cell_type": "code",
   "execution_count": null,
   "metadata": {
    "_cell_id": "woqGuqUDdFzfuwDg",
    "colab": {
     "base_uri": "https://localhost:8080/",
     "height": 261
    },
    "executionInfo": {
     "elapsed": 4199,
     "status": "ok",
     "timestamp": 1598976560115,
     "user": {
      "displayName": "Алексей Девяткин",
      "photoUrl": "",
      "userId": "11945040185410340858"
     },
     "user_tz": -180
    },
    "id": "Qa5POknMO2xm",
    "outputId": "e3e4feee-b0cc-46b4-f553-5a692f4112b6"
   },
   "outputs": [],
   "source": [
    "# Преобразование к двумерному массиву numpy\n",
    "df.to_numpy()"
   ]
  },
  {
   "cell_type": "code",
   "execution_count": null,
   "metadata": {
    "_cell_id": "ViKGtXZSZEOMdNtA",
    "colab": {
     "base_uri": "https://localhost:8080/",
     "height": 133
    },
    "executionInfo": {
     "elapsed": 4449,
     "status": "ok",
     "timestamp": 1598976560410,
     "user": {
      "displayName": "Алексей Девяткин",
      "photoUrl": "",
      "userId": "11945040185410340858"
     },
     "user_tz": -180
    },
    "id": "kdILwsLJPGJf",
    "outputId": "8ae11778-3ca1-400d-d118-8ae25a7e78c1"
   },
   "outputs": [],
   "source": [
    "# Получение транспонированного представления\n",
    "# Колонки -> ряды, ряды -> колонки\n",
    "df.T\n",
    "\n",
    "# (*) Транспонирование вряд ли часто понадобится при анализе, но учитывать стоит"
   ]
  },
  {
   "cell_type": "markdown",
   "metadata": {
    "id": "C7LrZvzjmjdE"
   },
   "source": [
    "## Обращение к данным"
   ]
  },
  {
   "cell_type": "markdown",
   "metadata": {},
   "source": [
    "Так как данные представлены в виде двумерного массива, то обращение к ним является важным инструментом.\n",
    "\n",
    "Начнём с того, чтобы обращаться к конкретной колонке:"
   ]
  },
  {
   "cell_type": "code",
   "execution_count": null,
   "metadata": {
    "_cell_id": "oAOVZmnNDR5oBYoD"
   },
   "outputs": [],
   "source": [
    "df = pd.DataFrame(\n",
    "    data=np.random.randint(0, 10, size=(5, 3)), \n",
    "    columns=['x1', 'x2', 'x3']\n",
    ")\n",
    "\n",
    "df"
   ]
  },
  {
   "cell_type": "code",
   "execution_count": null,
   "metadata": {
    "_cell_id": "Jq9is8ONgy2o2iq0"
   },
   "outputs": [],
   "source": [
    "print(df['x1'])\n",
    "print(type(df['x1']))"
   ]
  },
  {
   "cell_type": "markdown",
   "metadata": {},
   "source": [
    "Индексация во фрейме по колонкам производится по имени колонок. \n",
    "\n",
    "В результате создаётся объект `Series` (ряд), который является одномерным массивом. В случае индексации по колонкам каждая запись в ряду имеет индекс из основного фрейма. "
   ]
  },
  {
   "cell_type": "markdown",
   "metadata": {},
   "source": [
    "Аналогичный тип данных создаётся, когда мы обращаемся к конкретной записи в данных. Кстати, просто так не обратиться, поэтому для индексации по записям используются методы `DataFrame.iloc[]` и `DataFrame.loc[]`.\n",
    "\n",
    "Взгляните на разницу:"
   ]
  },
  {
   "cell_type": "code",
   "execution_count": null,
   "metadata": {
    "_cell_id": "ouv86RgBnnzzgNel"
   },
   "outputs": [],
   "source": [
    "data = {\n",
    "    'feature1': np.arange(15),\n",
    "    'feature2': np.linspace(0, 10, 15),\n",
    "    'feature3': 'string',\n",
    "}\n",
    "df = pd.DataFrame(data, index=list('ABCDEFGHIJKLMNO'))\n",
    "df.head()"
   ]
  },
  {
   "cell_type": "code",
   "execution_count": null,
   "metadata": {
    "_cell_id": "eWItdvt6LGMBF7Xu"
   },
   "outputs": [],
   "source": [
    "df.iloc[2]"
   ]
  },
  {
   "cell_type": "code",
   "execution_count": null,
   "metadata": {
    "_cell_id": "Sp0p9GJCL7nswsHu"
   },
   "outputs": [],
   "source": [
    "df.loc['C']"
   ]
  },
  {
   "cell_type": "code",
   "execution_count": null,
   "metadata": {
    "_cell_id": "8wOWNkbFL7FdF4Ck"
   },
   "outputs": [],
   "source": [
    "df.iloc[2, 1]"
   ]
  },
  {
   "cell_type": "code",
   "execution_count": null,
   "metadata": {
    "_cell_id": "JJruxKxNaCwWHr3Z"
   },
   "outputs": [],
   "source": [
    "df.loc['C', 'feature2']"
   ]
  },
  {
   "cell_type": "markdown",
   "metadata": {},
   "source": [
    "Если разница не явна, то обсудим:\n",
    "> `.iloc[]` используется для обращения по индексам как рядов, так и колонок;\n",
    "\n",
    "> `.loc[]` используется для обращения по именованиям как рядов, так и колонок.\n",
    "\n",
    "В индексации можно применять как слайсы, подобно тем, что научились применять в numpy, так и массивы в качестве индексов.\n",
    "\n",
    "При индексации по единственной строке создается объект `Series`, но уже с индексами в виде колонок.\n"
   ]
  },
  {
   "cell_type": "markdown",
   "metadata": {},
   "source": [
    "### Задание - выделяем часть\n",
    "\n",
    "Выведите часть фрейма со второго ряда по девятый (индексы с 'C' по 'I') и только `feature1` и `feature3`:"
   ]
  },
  {
   "cell_type": "code",
   "execution_count": null,
   "metadata": {
    "_cell_id": "aQHnYmMWvcXbBWM0"
   },
   "outputs": [],
   "source": [
    "data = {\n",
    "    'feature1': np.arange(15),\n",
    "    'feature2': np.linspace(0, 10, 15),\n",
    "    'feature3': 'string',\n",
    "}\n",
    "df = pd.DataFrame(data, index=list('ABCDEFGHIJKLMNO'))\n",
    "subset = df.loc['C':'I', ['feature1', 'feature3']]\n",
    "print(subset)\n",
    "df.head()\n"
   ]
  },
  {
   "cell_type": "code",
   "execution_count": null,
   "metadata": {
    "_cell_id": "FN8Ya4yDlNaxuqjV"
   },
   "outputs": [],
   "source": [
    "# TODO - выделите часть фрейма с помощью .loc[]"
   ]
  },
  {
   "cell_type": "code",
   "execution_count": null,
   "metadata": {
    "_cell_id": "ChZWBpJaP9UKZDYC"
   },
   "outputs": [],
   "source": [
    "# TODO - выделите часть фрейма с помощью .iloc[]"
   ]
  }
 ],
 "metadata": {
  "colab": {
   "collapsed_sections": [],
   "name": "Pr03_Pandas.ipynb",
   "provenance": [],
   "toc_visible": true
  },
  "kernelspec": {
   "display_name": "Python 3 (ipykernel)",
   "language": "python",
   "name": "python3"
  },
  "language_info": {
   "codemirror_mode": {
    "name": "ipython",
    "version": 3
   },
   "file_extension": ".py",
   "mimetype": "text/x-python",
   "name": "python",
   "nbconvert_exporter": "python",
   "pygments_lexer": "ipython3",
   "version": "3.10.11"
  },
  "vscode": {
   "interpreter": {
    "hash": "5ef4d00d2bd0c756646408250b3e0222db1655439c25a4f11279476b8286db07"
   }
  }
 },
 "nbformat": 4,
 "nbformat_minor": 4
}
